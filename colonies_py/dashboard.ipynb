{
 "cells": [
  {
   "cell_type": "code",
   "execution_count": null,
   "id": "ffe0c71c",
   "metadata": {},
   "outputs": [],
   "source": [
    "from structure import World\n",
    "import pandas as pd\n",
    "import numpy as np\n",
    "from streamz.dataframe import PeriodicDataFrame\n",
    "from time import sleep\n",
    "from IPython.display import display\n",
    "import ipywidgets as widgets\n",
    "from threading import Thread\n",
    "from ipywidgets import interact"
   ]
  },
  {
   "cell_type": "code",
   "execution_count": null,
   "id": "0856c65b",
   "metadata": {},
   "outputs": [],
   "source": [
    "def get_statistics_report(results):\n",
    "    sum_steps = 0\n",
    "    n_worlds = 0\n",
    "    \n",
    "    min_step = np.inf\n",
    "    world_min_step = None\n",
    "    \n",
    "    max_step = 0\n",
    "    world_max_step = None\n",
    "    \n",
    "    sum_punctuation = 0\n",
    "    n_ants = 0\n",
    "    max_punctuation = 0\n",
    "    \n",
    "    for world_num, (step, winner, x, y, food_results, colony_results) in enumerate(results):   \n",
    "        sum_steps += step\n",
    "        n_worlds += 1\n",
    "\n",
    "        if step < min_step:\n",
    "            min_step = step\n",
    "            world_min_step = world_num\n",
    "\n",
    "        if step > max_step:\n",
    "            max_step = step\n",
    "            world_max_step = world_num\n",
    "\n",
    "        for col_num, x, y, amount_of_food, ant_results, pheromone_results in colony_results:\n",
    "            for ant_num, x, y, old_x, old_y, has_food, punctuation in ant_results:\n",
    "                sum_punctuation += punctuation\n",
    "                n_ants += 1\n",
    "                max_punctuation = max(max_punctuation, punctuation)\n",
    "                    \n",
    "    report = pd.DataFrame({'Values': [sum_steps/n_worlds, world_min_step, min_step, world_max_step, max_step, sum_punctuation/n_ants, max_punctuation]}, index=['mean_steps', 'world_min_step', 'min_step', 'world_max_step', 'max_step', 'mean_pontuation', 'max_punctuation'])\n",
    "    \n",
    "    return report"
   ]
  },
  {
   "cell_type": "code",
   "execution_count": null,
   "id": "05905ea7",
   "metadata": {},
   "outputs": [],
   "source": [
    "def get_global_report(results):\n",
    "    report = pd.DataFrame({'step': [0 for _ in range(n_worlds+1)],\n",
    "                           'n_cols': [0 for _ in range(n_worlds+1)],\n",
    "                           'n_ants': [0 for _ in range(n_worlds+1)], \n",
    "                           'n_ants_w_food': [0 for _ in range(n_worlds+1)], \n",
    "                           'n_food_in_cols': [0 for _ in range(n_worlds+1)], \n",
    "                           'n_food_in_foods': [0 for _ in range(n_worlds+1)]},\n",
    "                           index=pd.Index(data=[i for i in range(n_worlds)] + ['total'], name='world'))\n",
    "\n",
    "    for world_num, (step, winner, x, y, food_results, colony_results) in enumerate(results):\n",
    "        report['step'][world_num] = step\n",
    "\n",
    "        for col_num, x, y, amount_of_food, ant_results, pheromone_results in colony_results:\n",
    "            report['n_cols'][world_num] += 1\n",
    "            report['n_food_in_cols'][world_num] += amount_of_food\n",
    "\n",
    "            for ant_num, x, y, old_x, old_y, has_food, punctuation in ant_results:\n",
    "                report['n_ants'][world_num] += 1\n",
    "\n",
    "                if has_food:\n",
    "                    report['n_ants_w_food'][world_num] += 1\n",
    "\n",
    "        for num, x, y, amount, inside, limit in food_results:\n",
    "            report['n_food_in_foods'][world_num] += amount\n",
    "            \n",
    "    report.loc['total'] = report.iloc[:n_worlds].sum(axis=0)\n",
    "    \n",
    "    total_ants = report['n_ants']\n",
    "    report['%_ants_w_food'] = (100 * report['n_ants_w_food'] / total_ants).astype(np.int64)\n",
    "    report['%_ants_look_food'] = 100 - report['%_ants_w_food']\n",
    "    \n",
    "    total_food = report['n_ants_w_food'] + report['n_food_in_cols'] + report['n_food_in_foods']\n",
    "    report['%_food_in_trans'] = (100 * report['n_ants_w_food'] / total_food).fillna(0).astype(np.int64)\n",
    "    report['%_food_in_cols'] = (100 * report['n_food_in_cols'] / total_food).fillna(0).astype(np.int64)\n",
    "    report['%_food_in_foods'] = (100 * report['n_food_in_foods'] / total_food).fillna(0).astype(np.int64)\n",
    "    \n",
    "    return report"
   ]
  },
  {
   "cell_type": "code",
   "execution_count": null,
   "id": "4ecf083a",
   "metadata": {},
   "outputs": [],
   "source": [
    "def get_world_report(result):\n",
    "    step, winner, x, y, food_results, colony_results = result\n",
    "\n",
    "    n_cols = len(colony_results)\n",
    "    report = pd.DataFrame({'n_ants': [0 for _ in range(n_cols+1)],\n",
    "                           'n_foods': [0 for _ in range(n_cols+1)],\n",
    "                           'n_ants_w_food': [0 for _ in range(n_cols+1)]},\n",
    "                           index=pd.Index(data=[i for i in range(n_cols)] + ['total'], name='colony'))\n",
    "\n",
    "    for col_num, x, y, amount_of_food, ant_results, pheromone_results in colony_results:\n",
    "        for ant_num, x, y, old_x, old_y, has_food, punctuation in ant_results:\n",
    "            report['n_ants'][col_num] += 1\n",
    "            \n",
    "            if has_food:\n",
    "                report['n_ants_w_food'][col_num] += 1\n",
    "\n",
    "        report['n_foods'][col_num] = amount_of_food\n",
    "\n",
    "    report.loc['total'] = report.iloc[:n_cols].sum(axis=0)\n",
    "    \n",
    "    total_ants = report['n_ants']\n",
    "    report['%_ants_w_food'] = (100 * report['n_ants_w_food'] / total_ants).astype(np.int64)\n",
    "    report['%_ants_look_food'] = 100 - report['%_ants_w_food']\n",
    "    \n",
    "    total_food = report['n_foods']\n",
    "    report['%_food_in_trans'] = (100 * report['n_ants_w_food'] / (report['n_ants_w_food'] + report['n_foods'])).fillna(0).astype(np.int64)\n",
    "    report['%_food_in_cols'] = 100 - report['%_food_in_trans']\n",
    "    \n",
    "    report['prob_of_win'] = (100 * report['n_foods'] / report['n_foods'].iloc[:n_cols].sum()).fillna(0).astype(np.int64)\n",
    "    \n",
    "    return report"
   ]
  },
  {
   "cell_type": "code",
   "execution_count": null,
   "id": "faa944a0",
   "metadata": {},
   "outputs": [],
   "source": [
    "sleeptime = 0.5\n",
    "n_worlds = 5\n",
    "report_type = 'Statistics'"
   ]
  },
  {
   "cell_type": "code",
   "execution_count": null,
   "id": "4a874f35",
   "metadata": {},
   "outputs": [],
   "source": [
    "report = pd.DataFrame()\n",
    "view = PeriodicDataFrame(lambda **kwargs: report, interval=sleeptime)"
   ]
  },
  {
   "cell_type": "code",
   "execution_count": null,
   "id": "8ef930f1",
   "metadata": {},
   "outputs": [],
   "source": [
    "widget = widgets.Dropdown(\n",
    "    options=['Statistics', 'Global'] + [f'World {i}' for i in range(n_worlds)],\n",
    "    value='Statistics',\n",
    "    description='View'\n",
    ")\n",
    "\n",
    "def on_change(change):\n",
    "    global report_type\n",
    "    \n",
    "    if change['type'] == 'change' and change['name'] == 'value':\n",
    "        report_type = change['new']\n",
    "\n",
    "widget.observe(on_change)\n",
    "    \n",
    "def display_widget():\n",
    "    display(widget)\n",
    "    display(view)"
   ]
  },
  {
   "cell_type": "code",
   "execution_count": null,
   "id": "868f1d17",
   "metadata": {
    "scrolled": true
   },
   "outputs": [],
   "source": [
    "def run_worlds(n=1000):\n",
    "    global report, report_type\n",
    "    \n",
    "    worlds = [World(1000) for _ in range(n_worlds)]\n",
    "\n",
    "    for _ in range(n):\n",
    "        results = [world.update() for world in worlds]\n",
    "\n",
    "        if report_type == 'Statistics':\n",
    "            report = get_statistics_report(results)\n",
    "        elif report_type == 'Global':\n",
    "            report = get_global_report(results)\n",
    "        else:\n",
    "            report = get_world_report(results[int(report_type.split()[1])])\n",
    "\n",
    "        sleep(sleeptime)"
   ]
  },
  {
   "cell_type": "code",
   "execution_count": null,
   "id": "8e8f119c",
   "metadata": {
    "scrolled": false
   },
   "outputs": [],
   "source": [
    "Thread(target = run_worlds).start()\n",
    "display_widget()"
   ]
  },
  {
   "cell_type": "code",
   "execution_count": null,
   "id": "341bc777",
   "metadata": {},
   "outputs": [],
   "source": []
  }
 ],
 "metadata": {
  "kernelspec": {
   "display_name": "Python 3 (ipykernel)",
   "language": "python",
   "name": "python3"
  },
  "language_info": {
   "codemirror_mode": {
    "name": "ipython",
    "version": 3
   },
   "file_extension": ".py",
   "mimetype": "text/x-python",
   "name": "python",
   "nbconvert_exporter": "python",
   "pygments_lexer": "ipython3",
   "version": "3.9.12"
  }
 },
 "nbformat": 4,
 "nbformat_minor": 5
}
